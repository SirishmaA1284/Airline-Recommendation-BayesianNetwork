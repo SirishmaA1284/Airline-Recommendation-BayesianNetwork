{
 "cells": [
  {
   "cell_type": "markdown",
   "metadata": {},
   "source": [
    "## Data Loading"
   ]
  },
  {
   "cell_type": "code",
   "execution_count": 2,
   "metadata": {},
   "outputs": [
    {
     "name": "stdout",
     "output_type": "stream",
     "text": [
      "<class 'pandas.core.frame.DataFrame'>\n",
      "RangeIndex: 41396 entries, 0 to 41395\n",
      "Data columns (total 20 columns):\n",
      " #   Column                         Non-Null Count  Dtype  \n",
      "---  ------                         --------------  -----  \n",
      " 0   airline_name                   41396 non-null  object \n",
      " 1   link                           41396 non-null  object \n",
      " 2   title                          41396 non-null  object \n",
      " 3   author                         41396 non-null  object \n",
      " 4   author_country                 39805 non-null  object \n",
      " 5   date                           41396 non-null  object \n",
      " 6   content                        41396 non-null  object \n",
      " 7   aircraft                       1278 non-null   object \n",
      " 8   type_traveller                 2378 non-null   object \n",
      " 9   cabin_flown                    38520 non-null  object \n",
      " 10  route                          2341 non-null   object \n",
      " 11  overall_rating                 36861 non-null  float64\n",
      " 12  seat_comfort_rating            33706 non-null  float64\n",
      " 13  cabin_staff_rating             33708 non-null  float64\n",
      " 14  food_beverages_rating          33264 non-null  float64\n",
      " 15  inflight_entertainment_rating  31114 non-null  float64\n",
      " 16  ground_service_rating          2203 non-null   float64\n",
      " 17  wifi_connectivity_rating       565 non-null    float64\n",
      " 18  value_money_rating             39723 non-null  float64\n",
      " 19  recommended                    41396 non-null  int64  \n",
      "dtypes: float64(8), int64(1), object(11)\n",
      "memory usage: 6.3+ MB\n",
      "None\n",
      "    airline_name                            link  \\\n",
      "0  adria-airways  /airline-reviews/adria-airways   \n",
      "1  adria-airways  /airline-reviews/adria-airways   \n",
      "2  adria-airways  /airline-reviews/adria-airways   \n",
      "3  adria-airways  /airline-reviews/adria-airways   \n",
      "4  adria-airways  /airline-reviews/adria-airways   \n",
      "\n",
      "                           title        author author_country        date  \\\n",
      "0  Adria Airways customer review         D Ito        Germany  2015-04-10   \n",
      "1  Adria Airways customer review  Ron Kuhlmann  United States  2015-01-05   \n",
      "2  Adria Airways customer review       E Albin    Switzerland  2014-09-14   \n",
      "3  Adria Airways customer review  Tercon Bojan      Singapore  2014-09-06   \n",
      "4  Adria Airways customer review       L James         Poland  2014-06-16   \n",
      "\n",
      "                                             content aircraft type_traveller  \\\n",
      "0  Outbound flight FRA/PRN A319. 2 hours 10 min f...      NaN            NaN   \n",
      "1  Two short hops ZRH-LJU and LJU-VIE. Very fast ...      NaN            NaN   \n",
      "2  Flew Zurich-Ljubljana on JP365 newish CRJ900. ...      NaN            NaN   \n",
      "3  Adria serves this 100 min flight from Ljubljan...      NaN            NaN   \n",
      "4  WAW-SKJ Economy. No free snacks or drinks on t...      NaN            NaN   \n",
      "\n",
      "      cabin_flown route  overall_rating  seat_comfort_rating  \\\n",
      "0         Economy   NaN             7.0                  4.0   \n",
      "1  Business Class   NaN            10.0                  4.0   \n",
      "2         Economy   NaN             9.0                  5.0   \n",
      "3  Business Class   NaN             8.0                  4.0   \n",
      "4         Economy   NaN             4.0                  4.0   \n",
      "\n",
      "   cabin_staff_rating  food_beverages_rating  inflight_entertainment_rating  \\\n",
      "0                 4.0                    4.0                            0.0   \n",
      "1                 5.0                    4.0                            1.0   \n",
      "2                 5.0                    4.0                            0.0   \n",
      "3                 4.0                    3.0                            1.0   \n",
      "4                 2.0                    1.0                            2.0   \n",
      "\n",
      "   ground_service_rating  wifi_connectivity_rating  value_money_rating  \\\n",
      "0                    NaN                       NaN                 4.0   \n",
      "1                    NaN                       NaN                 5.0   \n",
      "2                    NaN                       NaN                 5.0   \n",
      "3                    NaN                       NaN                 4.0   \n",
      "4                    NaN                       NaN                 2.0   \n",
      "\n",
      "   recommended  \n",
      "0            1  \n",
      "1            1  \n",
      "2            1  \n",
      "3            1  \n",
      "4            0  \n"
     ]
    }
   ],
   "source": [
    "import pandas as pd\n",
    "\n",
    "# Load the dataset\n",
    "file_path = r\"C:\\Users\\DELL\\OneDrive\\Desktop\\prProj\\airline\\airline.csv\"\n",
    "data = pd.read_csv(file_path)\n",
    "\n",
    "# Display the first few rows and dataset info\n",
    "print(data.info())\n",
    "print(data.head())\n"
   ]
  },
  {
   "cell_type": "markdown",
   "metadata": {},
   "source": [
    "## Missing values"
   ]
  },
  {
   "cell_type": "code",
   "execution_count": 3,
   "metadata": {},
   "outputs": [
    {
     "name": "stdout",
     "output_type": "stream",
     "text": [
      "airline_name                         0\n",
      "link                                 0\n",
      "title                                0\n",
      "author                               0\n",
      "author_country                    1591\n",
      "date                                 0\n",
      "content                              0\n",
      "aircraft                         40118\n",
      "type_traveller                   39018\n",
      "cabin_flown                       2876\n",
      "route                            39055\n",
      "overall_rating                    4535\n",
      "seat_comfort_rating               7690\n",
      "cabin_staff_rating                7688\n",
      "food_beverages_rating             8132\n",
      "inflight_entertainment_rating    10282\n",
      "ground_service_rating            39193\n",
      "wifi_connectivity_rating         40831\n",
      "value_money_rating                1673\n",
      "recommended                          0\n",
      "dtype: int64\n",
      "airline_name                     0\n",
      "link                             0\n",
      "title                            0\n",
      "author                           0\n",
      "author_country                   0\n",
      "date                             0\n",
      "content                          0\n",
      "aircraft                         0\n",
      "type_traveller                   0\n",
      "cabin_flown                      0\n",
      "route                            0\n",
      "overall_rating                   0\n",
      "seat_comfort_rating              0\n",
      "cabin_staff_rating               0\n",
      "food_beverages_rating            0\n",
      "inflight_entertainment_rating    0\n",
      "ground_service_rating            0\n",
      "wifi_connectivity_rating         0\n",
      "value_money_rating               0\n",
      "recommended                      0\n",
      "dtype: int64\n"
     ]
    }
   ],
   "source": [
    "# Check for missing values\n",
    "print(data.isnull().sum())\n",
    "\n",
    "# Fill missing values:\n",
    "# 1. For numerical columns: Use the column mean.\n",
    "# 2. For categorical columns: Use the column mode.\n",
    "for col in data.columns:\n",
    "    if data[col].dtype == 'object':\n",
    "        data[col].fillna(data[col].mode()[0], inplace=True)\n",
    "    else:\n",
    "        data[col].fillna(data[col].mean(), inplace=True)\n",
    "\n",
    "# Verify no missing values remain\n",
    "print(data.isnull().sum())\n"
   ]
  },
  {
   "cell_type": "markdown",
   "metadata": {},
   "source": [
    "## Encode Categorical Features"
   ]
  },
  {
   "cell_type": "code",
   "execution_count": 4,
   "metadata": {},
   "outputs": [
    {
     "name": "stdout",
     "output_type": "stream",
     "text": [
      "   overall_rating  seat_comfort_rating  cabin_staff_rating  \\\n",
      "0             7.0                  4.0                 4.0   \n",
      "1            10.0                  4.0                 5.0   \n",
      "2             9.0                  5.0                 5.0   \n",
      "3             8.0                  4.0                 4.0   \n",
      "4             4.0                  4.0                 2.0   \n",
      "\n",
      "   food_beverages_rating  inflight_entertainment_rating  \\\n",
      "0                    4.0                            0.0   \n",
      "1                    4.0                            1.0   \n",
      "2                    4.0                            0.0   \n",
      "3                    3.0                            1.0   \n",
      "4                    1.0                            2.0   \n",
      "\n",
      "   ground_service_rating  wifi_connectivity_rating  value_money_rating  \\\n",
      "0               2.736723                  2.249558                 4.0   \n",
      "1               2.736723                  2.249558                 5.0   \n",
      "2               2.736723                  2.249558                 5.0   \n",
      "3               2.736723                  2.249558                 4.0   \n",
      "4               2.736723                  2.249558                 2.0   \n",
      "\n",
      "   recommended  airline_name_aegean-airlines  ...  route_Zürich to Dubai  \\\n",
      "0            1                         False  ...                  False   \n",
      "1            1                         False  ...                  False   \n",
      "2            1                         False  ...                  False   \n",
      "3            1                         False  ...                  False   \n",
      "4            0                         False  ...                  False   \n",
      "\n",
      "   route_bkk to LAX via Guanzhou  route_can to lax  route_can to shanghai  \\\n",
      "0                          False             False                  False   \n",
      "1                          False             False                  False   \n",
      "2                          False             False                  False   \n",
      "3                          False             False                  False   \n",
      "4                          False             False                  False   \n",
      "\n",
      "   route_cardiff to dublin  route_chicago to Las vegas via phoenix  \\\n",
      "0                    False                                   False   \n",
      "1                    False                                   False   \n",
      "2                    False                                   False   \n",
      "3                    False                                   False   \n",
      "4                    False                                   False   \n",
      "\n",
      "   route_ft wayne indiana to Clearwater florida  route_ord to san  \\\n",
      "0                                         False             False   \n",
      "1                                         False             False   \n",
      "2                                         False             False   \n",
      "3                                         False             False   \n",
      "4                                         False             False   \n",
      "\n",
      "   route_rome to athens  route_İstanbul to Adana  \n",
      "0                 False                    False  \n",
      "1                 False                    False  \n",
      "2                 False                    False  \n",
      "3                 False                    False  \n",
      "4                 False                    False  \n",
      "\n",
      "[5 rows x 77203 columns]\n"
     ]
    }
   ],
   "source": [
    "# Identify categorical columns\n",
    "categorical_columns = data.select_dtypes(include=['object']).columns\n",
    "\n",
    "# Perform one-hot encoding for categorical columns\n",
    "data_encoded = pd.get_dummies(data, columns=categorical_columns, drop_first=True)\n",
    "\n",
    "# Display the encoded data\n",
    "print(data_encoded.head())\n"
   ]
  },
  {
   "cell_type": "markdown",
   "metadata": {},
   "source": [
    "## CO Relation Matrix"
   ]
  },
  {
   "cell_type": "code",
   "execution_count": null,
   "metadata": {},
   "outputs": [
    {
     "name": "stdout",
     "output_type": "stream",
     "text": [
      "Selected features based on correlation with target:\n",
      "Index(['overall_rating', 'value_money_rating', 'cabin_staff_rating',\n",
      "       'seat_comfort_rating', 'food_beverages_rating',\n",
      "       'inflight_entertainment_rating'],\n",
      "      dtype='object')\n"
     ]
    }
   ],
   "source": [
    "target = 'recommended'  # Replace with your target variable name\n",
    "correlations = {}\n",
    "\n",
    "for col in data_encoded.columns:\n",
    "    if col != target:  # Skip the target variable itself\n",
    "        correlations[col] = data_encoded[col].corr(data_encoded[target])\n",
    "\n",
    "# Convert correlations to a DataFrame and sort by absolute correlation\n",
    "correlation_with_target = pd.DataFrame.from_dict(correlations, orient='index', columns=['Correlation'])\n",
    "correlation_with_target = correlation_with_target.abs().sort_values(by='Correlation', ascending=False)\n",
    "\n",
    "# Select features above a certain threshold\n",
    "threshold = 0.2  # Adjust based on your data = correlation_with_target[correlation_with_target['Correlation'] > threshold].index\n",
    "\n",
    "# Print the selected features\n",
    "print(\"Selected features based on correlation with target:\")\n",
    "print(selected_features)\n"
   ]
  },
  {
   "cell_type": "markdown",
   "metadata": {},
   "source": [
    "## Subset Data with Selected Features"
   ]
  },
  {
   "cell_type": "code",
   "execution_count": 6,
   "metadata": {},
   "outputs": [
    {
     "name": "stdout",
     "output_type": "stream",
     "text": [
      "   overall_rating  value_money_rating  cabin_staff_rating  \\\n",
      "0             7.0                 4.0                 4.0   \n",
      "1            10.0                 5.0                 5.0   \n",
      "2             9.0                 5.0                 5.0   \n",
      "3             8.0                 4.0                 4.0   \n",
      "4             4.0                 2.0                 2.0   \n",
      "\n",
      "   seat_comfort_rating  food_beverages_rating  inflight_entertainment_rating  \\\n",
      "0                  4.0                    4.0                            0.0   \n",
      "1                  4.0                    4.0                            1.0   \n",
      "2                  5.0                    4.0                            0.0   \n",
      "3                  4.0                    3.0                            1.0   \n",
      "4                  4.0                    1.0                            2.0   \n",
      "\n",
      "   recommended  \n",
      "0            1  \n",
      "1            1  \n",
      "2            1  \n",
      "3            1  \n",
      "4            0  \n"
     ]
    }
   ],
   "source": [
    "import seaborn as sns\n",
    "import matplotlib.pyplot as plt\n",
    "# Subset the dataset with selected features and the target variable\n",
    "selected_features = ['overall_rating', 'value_money_rating', 'cabin_staff_rating',\n",
    "                     'seat_comfort_rating', 'food_beverages_rating', \n",
    "                     'inflight_entertainment_rating']\n",
    "target = 'recommended'  # Target variable\n",
    "\n",
    "# Create a new dataset with selected features\n",
    "data_selected = data_encoded[selected_features + [target]]\n",
    "\n",
    "# Display the subsetted data\n",
    "print(data_selected.head())\n"
   ]
  },
  {
   "cell_type": "markdown",
   "metadata": {},
   "source": [
    "## Train-Test Split"
   ]
  },
  {
   "cell_type": "code",
   "execution_count": 8,
   "metadata": {},
   "outputs": [
    {
     "name": "stdout",
     "output_type": "stream",
     "text": [
      "Training Features Shape: (33116, 7)\n",
      "Testing Features Shape: (8280, 7)\n"
     ]
    }
   ],
   "source": [
    "from sklearn.model_selection import train_test_split\n",
    "\n",
    "y = data_encoded['recommended']\n",
    "X_train, X_test, y_train, y_test = train_test_split(data_selected, y, test_size=0.2, random_state=42)\n",
    "\n",
    "# Display shapes of the splits\n",
    "print(\"Training Features Shape:\", X_train.shape)\n",
    "print(\"Testing Features Shape:\", X_test.shape)\n"
   ]
  },
  {
   "cell_type": "markdown",
   "metadata": {},
   "source": [
    "## Modeling"
   ]
  },
  {
   "cell_type": "markdown",
   "metadata": {},
   "source": [
    "### Train a Bayesian Network"
   ]
  },
  {
   "cell_type": "code",
   "execution_count": 9,
   "metadata": {},
   "outputs": [],
   "source": [
    "from pgmpy.models import BayesianNetwork\n",
    "from pgmpy.estimators import MaximumLikelihoodEstimator\n"
   ]
  },
  {
   "cell_type": "code",
   "execution_count": 10,
   "metadata": {},
   "outputs": [],
   "source": [
    "# Define the Bayesian Network structure\n",
    "model = BayesianNetwork([\n",
    "    ('overall_rating', 'recommended'),\n",
    "    ('value_money_rating', 'recommended'),\n",
    "    ('cabin_staff_rating', 'recommended'),\n",
    "    ('seat_comfort_rating', 'recommended'),\n",
    "    ('food_beverages_rating', 'recommended'),\n",
    "    ('inflight_entertainment_rating', 'recommended'),\n",
    "])\n"
   ]
  },
  {
   "cell_type": "markdown",
   "metadata": {},
   "source": [
    "### Train the Bayesian Network"
   ]
  },
  {
   "cell_type": "code",
   "execution_count": 11,
   "metadata": {},
   "outputs": [
    {
     "name": "stdout",
     "output_type": "stream",
     "text": [
      "Learned CPDs:\n",
      "CPD of overall_rating:\n",
      "+-----------------------------------+-----------+\n",
      "| overall_rating(1.0)               | 0.131296  |\n",
      "+-----------------------------------+-----------+\n",
      "| overall_rating(2.0)               | 0.0728047 |\n",
      "+-----------------------------------+-----------+\n",
      "| overall_rating(3.0)               | 0.0564682 |\n",
      "+-----------------------------------+-----------+\n",
      "| overall_rating(4.0)               | 0.0431211 |\n",
      "+-----------------------------------+-----------+\n",
      "| overall_rating(5.0)               | 0.0609071 |\n",
      "+-----------------------------------+-----------+\n",
      "| overall_rating(6.0)               | 0.0436345 |\n",
      "+-----------------------------------+-----------+\n",
      "| overall_rating(6.039526871218904) | 0.110098  |\n",
      "+-----------------------------------+-----------+\n",
      "| overall_rating(7.0)               | 0.0792366 |\n",
      "+-----------------------------------+-----------+\n",
      "| overall_rating(8.0)               | 0.129061  |\n",
      "+-----------------------------------+-----------+\n",
      "| overall_rating(9.0)               | 0.131477  |\n",
      "+-----------------------------------+-----------+\n",
      "| overall_rating(10.0)              | 0.141895  |\n",
      "+-----------------------------------+-----------+\n",
      "\n",
      "CPD of recommended:\n",
      "+-------------------------------+-----+\n",
      "| cabin_staff_rating            | ... |\n",
      "+-------------------------------+-----+\n",
      "| food_beverages_rating         | ... |\n",
      "+-------------------------------+-----+\n",
      "| inflight_entertainment_rating | ... |\n",
      "+-------------------------------+-----+\n",
      "| overall_rating                | ... |\n",
      "+-------------------------------+-----+\n",
      "| seat_comfort_rating           | ... |\n",
      "+-------------------------------+-----+\n",
      "| value_money_rating            | ... |\n",
      "+-------------------------------+-----+\n",
      "| recommended(0)                | ... |\n",
      "+-------------------------------+-----+\n",
      "| recommended(1)                | ... |\n",
      "+-------------------------------+-----+\n",
      "\n",
      "CPD of value_money_rating:\n",
      "+---------------------------------------+-----------+\n",
      "| value_money_rating(0.0)               | 0.0149475 |\n",
      "+---------------------------------------+-----------+\n",
      "| value_money_rating(1.0)               | 0.212918  |\n",
      "+---------------------------------------+-----------+\n",
      "| value_money_rating(2.0)               | 0.0990156 |\n",
      "+---------------------------------------+-----------+\n",
      "| value_money_rating(3.0)               | 0.128367  |\n",
      "+---------------------------------------+-----------+\n",
      "| value_money_rating(3.164111471943207) | 0.0405544 |\n",
      "+---------------------------------------+-----------+\n",
      "| value_money_rating(4.0)               | 0.282371  |\n",
      "+---------------------------------------+-----------+\n",
      "| value_money_rating(5.0)               | 0.221826  |\n",
      "+---------------------------------------+-----------+\n",
      "\n",
      "CPD of cabin_staff_rating:\n",
      "+----------------------------------------+-----------+\n",
      "| cabin_staff_rating(0.0)                | 0.0115956 |\n",
      "+----------------------------------------+-----------+\n",
      "| cabin_staff_rating(1.0)                | 0.156118  |\n",
      "+----------------------------------------+-----------+\n",
      "| cabin_staff_rating(2.0)                | 0.0876012 |\n",
      "+----------------------------------------+-----------+\n",
      "| cabin_staff_rating(3.0)                | 0.120244  |\n",
      "+----------------------------------------+-----------+\n",
      "| cabin_staff_rating(3.3192120564851075) | 0.185862  |\n",
      "+----------------------------------------+-----------+\n",
      "| cabin_staff_rating(4.0)                | 0.184412  |\n",
      "+----------------------------------------+-----------+\n",
      "| cabin_staff_rating(5.0)                | 0.254167  |\n",
      "+----------------------------------------+-----------+\n",
      "\n",
      "CPD of seat_comfort_rating:\n",
      "+-----------------------------------------+-----------+\n",
      "| seat_comfort_rating(0.0)                | 0.0167895 |\n",
      "+-----------------------------------------+-----------+\n",
      "| seat_comfort_rating(1.0)                | 0.144341  |\n",
      "+-----------------------------------------+-----------+\n",
      "| seat_comfort_rating(2.0)                | 0.0991364 |\n",
      "+-----------------------------------------+-----------+\n",
      "| seat_comfort_rating(3.0)                | 0.177618  |\n",
      "+-----------------------------------------+-----------+\n",
      "| seat_comfort_rating(3.0946122352103482) | 0.185892  |\n",
      "+-----------------------------------------+-----------+\n",
      "| seat_comfort_rating(4.0)                | 0.238253  |\n",
      "+-----------------------------------------+-----------+\n",
      "| seat_comfort_rating(5.0)                | 0.13797   |\n",
      "+-----------------------------------------+-----------+\n",
      "\n",
      "CPD of food_beverages_rating:\n",
      "+-------------------------------------------+-----------+\n",
      "| food_beverages_rating(0.0)                | 0.0631719 |\n",
      "+-------------------------------------------+-----------+\n",
      "| food_beverages_rating(1.0)                | 0.161523  |\n",
      "+-------------------------------------------+-----------+\n",
      "| food_beverages_rating(2.0)                | 0.0973849 |\n",
      "+-------------------------------------------+-----------+\n",
      "| food_beverages_rating(2.8058862433862433) | 0.196491  |\n",
      "+-------------------------------------------+-----------+\n",
      "| food_beverages_rating(3.0)                | 0.160013  |\n",
      "+-------------------------------------------+-----------+\n",
      "| food_beverages_rating(4.0)                | 0.189093  |\n",
      "+-------------------------------------------+-----------+\n",
      "| food_beverages_rating(5.0)                | 0.132323  |\n",
      "+-------------------------------------------+-----------+\n",
      "\n",
      "CPD of inflight_entertainment_rating:\n",
      "+--------------------------------------------------+----------+\n",
      "| inflight_entertainment_rating(0.0)               | 0.115805 |\n",
      "+--------------------------------------------------+----------+\n",
      "| inflight_entertainment_rating(1.0)               | 0.191569 |\n",
      "+--------------------------------------------------+----------+\n",
      "| inflight_entertainment_rating(2.0)               | 0.075311 |\n",
      "+--------------------------------------------------+----------+\n",
      "| inflight_entertainment_rating(2.392363566240278) | 0.247705 |\n",
      "+--------------------------------------------------+----------+\n",
      "| inflight_entertainment_rating(3.0)               | 0.12426  |\n",
      "+--------------------------------------------------+----------+\n",
      "| inflight_entertainment_rating(4.0)               | 0.138181 |\n",
      "+--------------------------------------------------+----------+\n",
      "| inflight_entertainment_rating(5.0)               | 0.107169 |\n",
      "+--------------------------------------------------+----------+\n",
      "\n"
     ]
    }
   ],
   "source": [
    "from pgmpy.estimators import MaximumLikelihoodEstimator\n",
    "\n",
    "# Train the Bayesian Network\n",
    "model.fit(X_train, estimator=MaximumLikelihoodEstimator)\n",
    "\n",
    "# Display the learned Conditional Probability Distributions (CPDs)\n",
    "print(\"Learned CPDs:\")\n",
    "for cpd in model.get_cpds():\n",
    "    print(f\"CPD of {cpd.variable}:\\n{cpd}\\n\")\n"
   ]
  },
  {
   "cell_type": "code",
   "execution_count": null,
   "metadata": {},
   "outputs": [],
   "source": [
    "# Perform inference on the entire test dataset\n",
    "from tqdm import tqdm  # For progress tracking\n",
    "\n",
    "# Initialize predictions list\n",
    "predictions = []\n",
    "\n",
    "# Iterate over the test dataset\n",
    "for _, row in tqdm(X_test.iterrows(), total=X_test.shape[0], desc=\"Inference Progress\"):\n",
    "    evidence = row.to_dict()\n",
    "    evidence.pop('recommended', None)  # Remove target from evidence\n",
    "    result = inference.map_query(variables=['recommended'], evidence=evidence)\n",
    "    predictions.append(result['recommended'])\n",
    "\n",
    "# Compare predictions with true values\n",
    "y_test = y_test.reset_index(drop=True)  # Ensure indices match\n",
    "predictions = pd.Series(predictions, name='Predicted')\n",
    "y_test = pd.Series(y_test, name='Actual')\n",
    "\n",
    "# Evaluate accuracy\n",
    "comparison = pd.DataFrame({'Actual': y_test, 'Predicted': predictions})\n",
    "accuracy = (comparison['Actual'] == comparison['Predicted']).mean()\n",
    "print(f\"\\nAccuracy: {accuracy:.2%}\")\n",
    "\n",
    "# Display a sample of the comparison DataFrame\n",
    "print(\"\\nSample Predictions vs Actual Values:\")\n",
    "print(comparison.sample(5))\n"
   ]
  },
  {
   "cell_type": "code",
   "execution_count": 14,
   "metadata": {},
   "outputs": [
    {
     "data": {
      "image/png": "[encoded data removed]",
      "text/plain": [
       "<Figure size 640x480 with 2 Axes>"
      ]
     },
     "metadata": {},
     "output_type": "display_data"
    }
   ],
   "source": [
    "from sklearn.metrics import confusion_matrix, ConfusionMatrixDisplay\n",
    "\n",
    "# Generate confusion matrix\n",
    "cm = confusion_matrix(y_test, predictions)\n",
    "\n",
    "# Display confusion matrix\n",
    "disp = ConfusionMatrixDisplay(confusion_matrix=cm, display_labels=[0, 1])\n",
    "disp.plot(cmap='viridis')\n",
    "plt.title(\"Confusion Matrix\")\n",
    "plt.show()\n"
   ]
  },
  {
   "cell_type": "code",
   "execution_count": 19,
   "metadata": {},
   "outputs": [
    {
     "name": "stdout",
     "output_type": "stream",
     "text": [
      "Test Accuracy: 90.99%\n"
     ]
    }
   ],
   "source": [
    "# Extract TN, FP, FN, TP from the confusion matrix\n",
    "TN, FP, FN, TP = cm.ravel()\n",
    "\n",
    "# Calculate accuracy\n",
    "accuracy = (TP + TN) / (TP + TN + FP + FN)\n",
    "\n",
    "# Print test accuracy\n",
    "print(f\"Test Accuracy: {accuracy:.2%}\")\n"
   ]
  }
 ],
 "metadata": {
  "kernelspec": {
   "display_name": "Python 3",
   "language": "python",
   "name": "python3"
  },
  "language_info": {
   "codemirror_mode": {
    "name": "ipython",
    "version": 3
   },
   "file_extension": ".py",
   "mimetype": "text/x-python",
   "name": "python",
   "nbconvert_exporter": "python",
   "pygments_lexer": "ipython3",
   "version": "3.11.4"
  }
 },
 "nbformat": 4,
 "nbformat_minor": 2
}
